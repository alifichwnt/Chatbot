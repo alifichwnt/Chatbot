{
  "nbformat": 4,
  "nbformat_minor": 0,
  "metadata": {
    "colab": {
      "provenance": [],
      "authorship_tag": "ABX9TyMSktqvuVI5M4rJWpgr42Ap",
      "include_colab_link": true
    },
    "kernelspec": {
      "name": "python3",
      "display_name": "Python 3"
    },
    "language_info": {
      "name": "python"
    }
  },
  "cells": [
    {
      "cell_type": "markdown",
      "metadata": {
        "id": "view-in-github",
        "colab_type": "text"
      },
      "source": [
        "<a href=\"https://colab.research.google.com/github/alifichwnt/Chatbot/blob/main/chatbot.ipynb\" target=\"_parent\"><img src=\"https://colab.research.google.com/assets/colab-badge.svg\" alt=\"Open In Colab\"/></a>"
      ]
    },
    {
      "cell_type": "code",
      "execution_count": 27,
      "metadata": {
        "colab": {
          "base_uri": "https://localhost:8080/"
        },
        "id": "NgFl3zL4CB8_",
        "outputId": "1ba77b0c-0c4b-4b0c-8065-cb649321ec93"
      },
      "outputs": [
        {
          "output_type": "stream",
          "name": "stdout",
          "text": [
            "Enter your Gemini API Key:··········\n",
            "P, Selamat Datang di Chatbot Ala-Ala!\n",
            "ketik '0' untuk meninggalkan AI. \n",
            "\n",
            "Antum: STIS di bawah kementrian apa\n",
            "AI: STIS (Sekolah Tinggi Ilmu Statistik) berada di bawah **Kementerian Keuangan Republik Indonesia**. \n",
            "\n",
            "Antum: 0\n",
            "Syukron! Mampir lagi yaa\n"
          ]
        }
      ],
      "source": [
        "import os\n",
        "import requests\n",
        "import json\n",
        "from getpass import getpass\n",
        "\n",
        "# Set API key\n",
        "API_KEY = getpass('Enter your Gemini API Key:')\n",
        "\n",
        "def gemini_request(prompt, temperature=0.5, max_output_tokens=1024, model=\"gemini-1.5-flash-latest\"):\n",
        "    if not API_KEY:\n",
        "        raise ValueError(\"API key is missing. Please set the GEMINI_API_KEY environment variable.\")\n",
        "\n",
        "    model_query = f\"{model}:generateContent\"\n",
        "    url = f\"https://generativelanguage.googleapis.com/v1beta/models/{model_query}\"\n",
        "    headers = {\"Content-Type\": \"application/json\"}\n",
        "    params = {\"key\": API_KEY}\n",
        "\n",
        "    body = {\n",
        "        \"contents\": {\n",
        "            \"parts\": [\n",
        "                {\"text\": prompt}\n",
        "            ]\n",
        "        },\n",
        "        \"generationConfig\": {\n",
        "            \"temperature\": temperature,\n",
        "            \"maxOutputTokens\": max_output_tokens\n",
        "        }\n",
        "    }\n",
        "\n",
        "    response = requests.post(url, headers=headers, params=params, data=json.dumps(body))\n",
        "\n",
        "    if response.status_code != 200:\n",
        "        raise Exception(f\"Error - {response.json().get('error', {}).get('message', 'Unknown error')}\")\n",
        "\n",
        "    candidates = response.json().get('candidates', [])\n",
        "    outputs = [part['text'] for candidate in candidates for part in candidate['content']['parts']]\n",
        "\n",
        "    return outputs\n",
        "\n",
        "def main():\n",
        "    print(\"P, Selamat Datang di Chatbot Ala-Ala!\")\n",
        "    print(\"ketik '0' untuk meninggalkan AI. \\n\")\n",
        "\n",
        "    while True:\n",
        "        prompt = input(\"Antum: \")\n",
        "        if prompt.lower() == '0':\n",
        "            print(\"Syukron! Mampir lagi yaa\")\n",
        "            break\n",
        "\n",
        "        try:\n",
        "            responses = gemini_request(prompt)\n",
        "            for response in responses:\n",
        "                print(f\"AI: {response}\")\n",
        "        except Exception as e:\n",
        "            print(f\"Error: {e}\")\n",
        "\n",
        "if __name__ == \"__main__\":\n",
        "    main()"
      ]
    }
  ]
}